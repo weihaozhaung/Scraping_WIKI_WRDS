{
 "cells": [
  {
   "cell_type": "code",
   "execution_count": 10,
   "metadata": {},
   "outputs": [],
   "source": [
    "import pymysql\n",
    "import mariadb\n",
    "import sys"
   ]
  },
  {
   "cell_type": "code",
   "execution_count": 6,
   "metadata": {
    "scrolled": false
   },
   "outputs": [],
   "source": [
    "db = pymysql.connect(host='127.0.0.1',user='root',password='540210',db='TW_StkMkt')"
   ]
  },
  {
   "cell_type": "code",
   "execution_count": 7,
   "metadata": {},
   "outputs": [],
   "source": [
    "cur=db.cursor()"
   ]
  },
  {
   "cell_type": "code",
   "execution_count": 8,
   "metadata": {
    "scrolled": true
   },
   "outputs": [
    {
     "data": {
      "text/plain": [
       "1"
      ]
     },
     "execution_count": 8,
     "metadata": {},
     "output_type": "execute_result"
    }
   ],
   "source": [
    "cur.execute('create table StkInfo(Code int, )')"
   ]
  },
  {
   "cell_type": "code",
   "execution_count": 9,
   "metadata": {},
   "outputs": [],
   "source": [
    "Data=[i for i in cur.fetchall()]"
   ]
  },
  {
   "cell_type": "code",
   "execution_count": 10,
   "metadata": {},
   "outputs": [
    {
     "data": {
      "text/plain": [
       "[(1, 'test', '100', '40')]"
      ]
     },
     "execution_count": 10,
     "metadata": {},
     "output_type": "execute_result"
    }
   ],
   "source": [
    "Data"
   ]
  },
  {
   "cell_type": "code",
   "execution_count": 11,
   "metadata": {},
   "outputs": [],
   "source": [
    "cur.close()"
   ]
  },
  {
   "cell_type": "code",
   "execution_count": 12,
   "metadata": {},
   "outputs": [],
   "source": [
    "db.close()"
   ]
  },
  {
   "cell_type": "code",
   "execution_count": 1,
   "metadata": {
    "scrolled": true
   },
   "outputs": [],
   "source": [
    "def find_code(Names):\n",
    "    code = []\n",
    "    for Name in Names:\n",
    "        if re.match(r'\\d{4,6}[a-zA-Z]|\\d{4,6}', Name):\n",
    "            code.append(re.findall(r'\\d{4,6}[a-zA-Z]|\\d{4,6}', Name))\n",
    "        else:\n",
    "            code.append('No matches')\n",
    "    return [i[0] for i in code]"
   ]
  },
  {
   "cell_type": "code",
   "execution_count": 2,
   "metadata": {},
   "outputs": [],
   "source": [
    "def find_name(Names):\n",
    "    name = []\n",
    "    for Name in Names:   \n",
    "        name.append(Name.split(' ')[1])\n",
    "    return [i for i in name]"
   ]
  },
  {
   "cell_type": "markdown",
   "metadata": {},
   "source": [
    "# Scrape Data"
   ]
  },
  {
   "cell_type": "code",
   "execution_count": 3,
   "metadata": {},
   "outputs": [],
   "source": [
    "import numpy as np\n",
    "import requests\n",
    "import pandas as pd\n",
    "import datetime\n",
    "import re\n",
    "import time"
   ]
  },
  {
   "cell_type": "code",
   "execution_count": 4,
   "metadata": {},
   "outputs": [],
   "source": [
    "Stk_base = pd.read_excel('C:/Users/Admin/Desktop/TW_StkList.xlsx')"
   ]
  },
  {
   "cell_type": "code",
   "execution_count": 5,
   "metadata": {},
   "outputs": [
    {
     "data": {
      "text/html": [
       "<div>\n",
       "<style scoped>\n",
       "    .dataframe tbody tr th:only-of-type {\n",
       "        vertical-align: middle;\n",
       "    }\n",
       "\n",
       "    .dataframe tbody tr th {\n",
       "        vertical-align: top;\n",
       "    }\n",
       "\n",
       "    .dataframe thead th {\n",
       "        text-align: right;\n",
       "    }\n",
       "</style>\n",
       "<table border=\"1\" class=\"dataframe\">\n",
       "  <thead>\n",
       "    <tr style=\"text-align: right;\">\n",
       "      <th></th>\n",
       "      <th>Name</th>\n",
       "      <th>Ind</th>\n",
       "      <th>Code</th>\n",
       "    </tr>\n",
       "  </thead>\n",
       "  <tbody>\n",
       "    <tr>\n",
       "      <th>0</th>\n",
       "      <td>麗正</td>\n",
       "      <td>Semi-conductor</td>\n",
       "      <td>2302</td>\n",
       "    </tr>\n",
       "    <tr>\n",
       "      <th>1</th>\n",
       "      <td>光罩</td>\n",
       "      <td>Semi-conductor</td>\n",
       "      <td>2338</td>\n",
       "    </tr>\n",
       "    <tr>\n",
       "      <th>2</th>\n",
       "      <td>菱生</td>\n",
       "      <td>Semi-conductor</td>\n",
       "      <td>2369</td>\n",
       "    </tr>\n",
       "    <tr>\n",
       "      <th>3</th>\n",
       "      <td>統懋</td>\n",
       "      <td>Semi-conductor</td>\n",
       "      <td>2434</td>\n",
       "    </tr>\n",
       "    <tr>\n",
       "      <th>4</th>\n",
       "      <td>聯發科</td>\n",
       "      <td>Semi-conductor</td>\n",
       "      <td>2454</td>\n",
       "    </tr>\n",
       "    <tr>\n",
       "      <th>...</th>\n",
       "      <td>...</td>\n",
       "      <td>...</td>\n",
       "      <td>...</td>\n",
       "    </tr>\n",
       "    <tr>\n",
       "      <th>959</th>\n",
       "      <td>中保科</td>\n",
       "      <td>Others</td>\n",
       "      <td>9917</td>\n",
       "    </tr>\n",
       "    <tr>\n",
       "      <th>960</th>\n",
       "      <td>泰銘</td>\n",
       "      <td>Others</td>\n",
       "      <td>9927</td>\n",
       "    </tr>\n",
       "    <tr>\n",
       "      <th>961</th>\n",
       "      <td>成霖</td>\n",
       "      <td>Others</td>\n",
       "      <td>9934</td>\n",
       "    </tr>\n",
       "    <tr>\n",
       "      <th>962</th>\n",
       "      <td>裕融</td>\n",
       "      <td>Others</td>\n",
       "      <td>9941</td>\n",
       "    </tr>\n",
       "    <tr>\n",
       "      <th>963</th>\n",
       "      <td>佳龍</td>\n",
       "      <td>Others</td>\n",
       "      <td>9955</td>\n",
       "    </tr>\n",
       "  </tbody>\n",
       "</table>\n",
       "<p>964 rows × 3 columns</p>\n",
       "</div>"
      ],
      "text/plain": [
       "    Name             Ind  Code\n",
       "0     麗正  Semi-conductor  2302\n",
       "1     光罩  Semi-conductor  2338\n",
       "2     菱生  Semi-conductor  2369\n",
       "3     統懋  Semi-conductor  2434\n",
       "4    聯發科  Semi-conductor  2454\n",
       "..   ...             ...   ...\n",
       "959  中保科          Others  9917\n",
       "960   泰銘          Others  9927\n",
       "961   成霖          Others  9934\n",
       "962   裕融          Others  9941\n",
       "963   佳龍          Others  9955\n",
       "\n",
       "[964 rows x 3 columns]"
      ]
     },
     "execution_count": 5,
     "metadata": {},
     "output_type": "execute_result"
    }
   ],
   "source": [
    "Stk_base['Code'] = find_code(Stk_base['Name'])\n",
    "Stk_base['Name'] = find_name(Stk_base['Name'])\n",
    "\n",
    "Stk_base"
   ]
  },
  {
   "cell_type": "code",
   "execution_count": null,
   "metadata": {},
   "outputs": [],
   "source": []
  },
  {
   "cell_type": "code",
   "execution_count": 6,
   "metadata": {},
   "outputs": [],
   "source": [
    "#   http://www.twse.com.tw/exchangeReport/STOCK_DAY?date=20180817&stockNo=2330  取一個月的股價與成交量\n",
    "def get_stock_history(date, stock_no):\n",
    "    quotes = []\n",
    "    url = 'http://www.twse.com.tw/exchangeReport/STOCK_DAY?date=%s&stockNo=%s' % ( date, stock_no)\n",
    "    r = requests.get(url)\n",
    "    data = r.json()\n",
    "    return transform(data['data'])  #進行資料格式轉換\n",
    "\n",
    "def transform_date(date):\n",
    "        y, m, d = date.split('/')\n",
    "        return str(int(y)+1911) + '/' + m  + '/' + d  #民國轉西元\n",
    "    \n",
    "def transform_data(data):\n",
    "    data[0] = datetime.datetime.strptime(transform_date(data[0]), '%Y/%m/%d')\n",
    "    data[1] = int(data[1].replace(',', ''))  #把千進位的逗點去除\n",
    "    data[2] = int(data[2].replace(',', ''))\n",
    "    data[3] = float(data[3].replace(',', ''))\n",
    "    data[4] = float(data[4].replace(',', ''))\n",
    "    data[5] = float(data[5].replace(',', ''))\n",
    "    data[6] = float(data[6].replace(',', ''))\n",
    "    data[7] = float(0.0 if data[7].replace(',', '') == 'X0.00' else data[7].replace(',', ''))  # +/-/X表示漲/跌/不比價\n",
    "    data[8] = int(data[8].replace(',', ''))\n",
    "    return data\n",
    "\n",
    "def transform(data):\n",
    "    return [transform_data(d) for d in data]\n",
    "\n",
    "def create_df(date,stock_no):\n",
    "    s = pd.DataFrame(get_stock_history(date, stock_no))\n",
    "    s.columns = ['date', 'shares', 'amount', 'open', 'high', 'low', 'close', 'change', 'turnover']\n",
    "                #\"日期\",\"成交股數\",\"成交金額\",\"開盤價\",\"最高價\",\"最低價\",\"收盤價\",\"漲跌價差\",\"成交筆數\" \n",
    "    stock = []\n",
    "    for i in range(len(s)):\n",
    "        stock.append(stock_no)\n",
    "    s['stockno'] = pd.Series(stock ,index=s.index)  #新增股票代碼欄，之後所有股票進入資料表才能知道是哪一張股票\n",
    "    datelist = []\n",
    "    for i in range(len(s)):\n",
    "        datelist.append(s['date'][i])\n",
    "    s.index = datelist  #索引值改成日期\n",
    "    s2 = s.drop(['date'],axis = 1)  #刪除日期欄位\n",
    "    mlist = []\n",
    "    for item in s2.index:\n",
    "        mlist.append(item.month)\n",
    "    s2['month'] = mlist  #新增月份欄位\n",
    "    return s2"
   ]
  },
  {
   "cell_type": "code",
   "execution_count": null,
   "metadata": {},
   "outputs": [
    {
     "name": "stdout",
     "output_type": "stream",
     "text": [
      "Processing---Stock: 2302, Month: 201001\n",
      "Processing---Stock: 2338, Month: 201001\n",
      "Processing---Stock: 2369, Month: 201001\n",
      "Processing---Stock: 2434, Month: 201001\n",
      "Processing---Stock: 2454, Month: 201001\n",
      "Processing---Stock: 3016, Month: 201001\n",
      "Processing---Stock: 3094, Month: 201001\n",
      "Processing---Stock: 3530, Month: 201001\n",
      "Processing---Stock: 3588, Month: 201001\n"
     ]
    }
   ],
   "source": [
    "Months = pd.date_range('2010-01-01','2020-10-31', freq='MS').strftime(\"%Y%m\").tolist()\n",
    "listDji = Stk_base['Code']\n",
    "Stk_Data = pd.DataFrame()\n",
    "for j in Months:  \n",
    "    for i in range(len(listDji)):\n",
    "        print('Processing---Stock: %s, Month: %s'%(listDji[i],j))\n",
    "        try:\n",
    "            result = create_df(j+'01', listDji[i])\n",
    "            Stk_Data.append(result)\n",
    "            \n",
    "            time.sleep(3)\n",
    "        except:\n",
    "            time.sleep(1)\n",
    "            next\n",
    "    Stk_Data.to_csv('stkdata'+j+'.csv',encoding=utf-8-sig)\n",
    "    "
   ]
  },
  {
   "cell_type": "code",
   "execution_count": null,
   "metadata": {},
   "outputs": [],
   "source": []
  },
  {
   "cell_type": "code",
   "execution_count": null,
   "metadata": {},
   "outputs": [],
   "source": [
    "#Financial Report\n",
    "#https://mops.twse.com.tw/server-java/t164sb01?step=1&CO_ID=2330&SYEAR=2019&SSEASON=2&REPORT_ID=C "
   ]
  },
  {
   "cell_type": "code",
   "execution_count": null,
   "metadata": {},
   "outputs": [],
   "source": [
    "print(result.groupby('month').close.count())  #每個月幾個營業日\n",
    "print(result.groupby('month').shares.sum())  #每個月累計成交股數"
   ]
  },
  {
   "cell_type": "code",
   "execution_count": null,
   "metadata": {},
   "outputs": [],
   "source": []
  },
  {
   "cell_type": "code",
   "execution_count": null,
   "metadata": {},
   "outputs": [],
   "source": []
  },
  {
   "cell_type": "code",
   "execution_count": null,
   "metadata": {},
   "outputs": [],
   "source": []
  }
 ],
 "metadata": {
  "kernelspec": {
   "display_name": "Python 3",
   "language": "python",
   "name": "python3"
  },
  "language_info": {
   "codemirror_mode": {
    "name": "ipython",
    "version": 3
   },
   "file_extension": ".py",
   "mimetype": "text/x-python",
   "name": "python",
   "nbconvert_exporter": "python",
   "pygments_lexer": "ipython3",
   "version": "3.8.3"
  }
 },
 "nbformat": 4,
 "nbformat_minor": 4
}
